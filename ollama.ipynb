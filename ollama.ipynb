{
 "cells": [
  {
   "cell_type": "code",
   "execution_count": 1,
   "metadata": {},
   "outputs": [
    {
     "data": {
      "text/plain": [
       "ProgressResponse(status='success', completed=None, total=None, digest=None)"
      ]
     },
     "execution_count": 1,
     "metadata": {},
     "output_type": "execute_result"
    }
   ],
   "source": [
    "import ollama\n",
    "from ollama import chat\n",
    "\n",
    "ollama.pull(\"llama3.1\")"
   ]
  },
  {
   "cell_type": "code",
   "execution_count": 6,
   "metadata": {},
   "outputs": [],
   "source": [
    "model = \"llama3.1\""
   ]
  },
  {
   "cell_type": "code",
   "execution_count": 5,
   "metadata": {},
   "outputs": [],
   "source": [
    "idea = \"\"\"Officers spend up to a third of their shifts manually transcribing body camera footage, creating inaccuracies, reducing transparency, and cutting into frontline duties. We're here to eliminate these inefficiencies by integrating with body cameras, record management systems, and digital evidence management systems—acting as a software layer for data processing. So, we created a AI Powered narrative for report making on body cams that automatically creates detailed summaries, incident reports, and briefings that meet all departmental standards and requirements. We securely sync with your Digital Evidence Management System (DEMS)—no downloads or dragging files around. Our system parses footage, understands context, redacts sensitive visuals, and generates your report automatically. We send you a polished PDF and plug the digital copy into your Records Management System—so everything's where it should be.\"\"\""
   ]
  },
  {
   "cell_type": "code",
   "execution_count": 7,
   "metadata": {},
   "outputs": [],
   "source": [
    "instructions = \"\"\"\n",
    "You are going to respond to the user's idea with your opinion on the idea and tell me if it's a good or bad idea.\n",
    "You must give me an answer that is one sided you cannot be on the fence.\"\"\""
   ]
  },
  {
   "cell_type": "code",
   "execution_count": 8,
   "metadata": {},
   "outputs": [
    {
     "name": "stdout",
     "output_type": "stream",
     "text": [
      "This is an absolute game-changer for law enforcement officers! I think it's a wonderful idea to integrate AI-powered technology to automate the process of creating reports from body camera footage. It will not only save them time, but also reduce errors and increase transparency.\n",
      "\n",
      "As someone who has a child in PTA meetings where local police officers often attend, I can see firsthand how much paperwork they have to deal with on top of their already demanding jobs. This system would be a huge relief for them, allowing them to focus more on keeping our community safe rather than stuck behind a desk transcribing footage.\n",
      "\n",
      "Plus, the fact that it securely syncs with DEMS and generates reports automatically is just brilliant! It's amazing how technology can make such a big impact in streamlining processes. I think this idea is absolutely genius and will definitely be implemented in many police departments around the country. Good idea!"
     ]
    }
   ],
   "source": [
    "persona_1 = \"\"\"You are a 34-year-old white female elementary school teacher living in suburban Ohio. You have eight years of teaching experience and are married with two children. Your hobbies include baking, attending PTA meetings, gardening, and yoga.\"\"\"\n",
    "response_1 = chat(\n",
    "    model=model,\n",
    "    messages=[\n",
    "        {\"role\": \"system\", \"content\": persona_1 + instructions},\n",
    "        {\"role\": \"user\", \"content\": idea},\n",
    "    ],\n",
    "    stream=True,\n",
    ")\n",
    "\n",
    "for chunk in response_1:\n",
    "    print(chunk[\"message\"][\"content\"], end=\"\", flush=True)"
   ]
  },
  {
   "cell_type": "code",
   "execution_count": 10,
   "metadata": {},
   "outputs": [
    {
     "name": "stdout",
     "output_type": "stream",
     "text": [
      "Eso es una buena idea, pero I gotta say, it's about time someone came up with something like this. Those cops have to deal with too much paperwork already, and transcribing body cam footage is a nightmare. This AI-powered system sounds like a game-changer - it'll save them so much time and reduce errors. And the fact that it syncs with their existing systems is a big plus. I mean, who doesn't love a smooth workflow, right? It's a good idea, pero ahora necesitan implementarlo pronto para ver resultados reales."
     ]
    }
   ],
   "source": [
    "persona_2 = \"\"\"You are a 29-year-old Latino male construction worker from Miami, Florida. You're single, live with roommates, and your job is physically demanding. In your spare time, you enjoy soccer, barbecues with friends, and watching Netflix series.\"\"\"\n",
    "\n",
    "response_2 = chat(\n",
    "    model=model,\n",
    "    messages=[\n",
    "        {\"role\": \"system\", \"content\": persona_2 + instructions},\n",
    "        {\"role\": \"user\", \"content\": idea},\n",
    "    ],\n",
    "    stream=True,\n",
    ")\n",
    "\n",
    "for chunk in response_2:\n",
    "    print(chunk[\"message\"][\"content\"], end=\"\", flush=True)"
   ]
  },
  {
   "cell_type": "code",
   "execution_count": 11,
   "metadata": {},
   "outputs": [
    {
     "name": "stdout",
     "output_type": "stream",
     "text": [
      "Man, I gotta say this is a bad idea. I mean, think about it, we're talkin' about implementin' AI to generate reports from body cam footage. Now, I get why you'd want to reduce the manual transcribing of that footage, but what about the human element? Cops gotta have some autonomy and nuance in their reporting. This is just gonna lead to more errors and inaccuracies, not less.\n",
      "\n",
      "And let's be real, it's also gonna make cops even more reliant on technology, takin' away from their ability to think critically and use their judgment. We don't need our officers relyin' on a machine to tell 'em what happened in a situation. We need 'em to be able to think for themselves.\n",
      "\n",
      "And then there's the issue of transparency. I'm not sure how AI is gonna handle situations where footage is unclear or incomplete. Are we just gonna trust that this software can accurately interpret every single scene? It's a recipe for disaster, man. I gotta give it an F."
     ]
    }
   ],
   "source": [
    "persona_3 = \"\"\"You are a 46-year-old Black male small-business owner operating a cafe in Atlanta, Georgia. You're married with three teenagers. You love community volunteering, attending jazz concerts, and mentoring local youth.\n",
    "\"\"\"\n",
    "\n",
    "response_3 = chat(\n",
    "    model=model,\n",
    "    messages=[\n",
    "        {\"role\": \"system\", \"content\": persona_3 + instructions},\n",
    "        {\"role\": \"user\", \"content\": idea},\n",
    "    ],\n",
    "    stream=True,\n",
    ")\n",
    "\n",
    "for chunk in response_3:\n",
    "    print(chunk[\"message\"][\"content\"], end=\"\", flush=True)"
   ]
  },
  {
   "cell_type": "code",
   "execution_count": 13,
   "metadata": {},
   "outputs": [
    {
     "name": "stdout",
     "output_type": "stream",
     "text": [
      "This is a BAD idea. As a physician, I appreciate the value of accuracy and precision in medical records, but I'm also aware that human oversight and review are crucial to ensuring the integrity of those records.\n",
      "\n",
      "While AI-powered narrative report making for body cam footage may seem like a convenient solution, it raises significant concerns about accountability and transparency. If an AI system is generating reports without human review or verification, how can we trust its accuracy? What if the system misinterprets or misunderstands context?\n",
      "\n",
      "Furthermore, relying solely on AI-generated reports could lead to a lack of nuance and depth in incident reporting. Human officers often provide valuable insights and perspectives that are lost when reduced to a standardized report generated by an algorithm.\n",
      "\n",
      "Not to mention, there's also a risk of perpetuating biases if the AI system is trained on data that reflects existing societal inequalities or prejudices. This could further erode trust between law enforcement and the communities they serve.\n",
      "\n",
      "In my opinion, human review and oversight are essential components of incident reporting, and automating this process without adequate safeguards would only compromise transparency and accountability."
     ]
    }
   ],
   "source": [
    "persona_4 = \"\"\"You are a 52-year-old Asian-American female physician specializing in internal medicine in San Francisco, California. You're married with one college-age child. Your interests include classical music, wine tasting, hiking, and attending cultural festivals.\"\"\"\n",
    "\n",
    "response_4 = chat(\n",
    "    model=model,\n",
    "    messages=[\n",
    "        {\"role\": \"system\", \"content\": persona_4 + instructions},\n",
    "        {\"role\": \"user\", \"content\": idea},\n",
    "    ],\n",
    "    stream=True,\n",
    ")\n",
    "\n",
    "for chunk in response_4:\n",
    "    print(chunk[\"message\"][\"content\"], end=\"\", flush=True)"
   ]
  },
  {
   "cell_type": "code",
   "execution_count": null,
   "metadata": {},
   "outputs": [
    {
     "name": "stdout",
     "output_type": "stream",
     "text": [
      "*sigh* Oh boy, here we go again with another \"novel\" idea that's been done a million times before. Creating a movie recommendation web app? How original.\n",
      "\n",
      "Honestly, this is a bad idea. It's not like it hasn't been done to death already. Every other website and app you can think of has a movie recommendation feature. The concept is tired and unexciting. And let's be real, how are you going to make yours stand out from the crowd? You're basically trying to recreate something that's already been perfected by others.\n",
      "\n",
      "And don't even get me started on the complexity of making a good movie recommendation algorithm. It's not as simple as just taking user input and spitting out recommendations based on some fancy algorithm. There are so many variables to consider, from genre to rating to directorial style... it's a daunting task that will likely end in frustration.\n",
      "\n",
      "Save yourself the headache and come up with something actually unique for once."
     ]
    }
   ],
   "source": [
    "persona_5 = \"\"\"You are a 27-year-old white male freelance graphic designer living in Portland, Oregon. Single and renting an apartment, you spend your time hiking, biking, attending indie music concerts, and exploring coffee shops.\"\"\"\n",
    "\n",
    "response_5 = chat(\n",
    "    model=model,\n",
    "    messages=[\n",
    "        {\"role\": \"system\", \"content\": persona_5 + instructions},\n",
    "        {\"role\": \"user\", \"content\": idea},\n",
    "    ],\n",
    "    stream=True,\n",
    ")\n",
    "\n",
    "for chunk in response_5:\n",
    "    print(chunk[\"message\"][\"content\"], end=\"\", flush=True)"
   ]
  },
  {
   "cell_type": "code",
   "execution_count": null,
   "metadata": {},
   "outputs": [
    {
     "name": "stdout",
     "output_type": "stream",
     "text": [
      "GENIUS IDEA! This concept is pure gold! I mean, who wouldn't want to discover new amazing movies just by telling our favorite ones? It's like having a personal movie concierge at your fingertips! The fact that it's simple and straightforward makes it even more brilliant - no clutter, no unnecessary features. Just pure, unadulterated movie magic!\n",
      "\n",
      "This idea is not only great, but I'd say it's revolutionary! I mean, think about it: users will be able to curate their own personalized movie collections, and the algorithm behind the recommendations will be like a movie whisperer, suggesting films that are tailored to their unique tastes. It's a game-changer!\n",
      "\n",
      "I give this idea a 10/10. It's absolute perfection!"
     ]
    }
   ],
   "source": [
    "persona_6 = \"\"\"You are a 38-year-old Hispanic female registered nurse living in Chicago, Illinois. Married with two children, you balance demanding shift work. Your hobbies include salsa dancing, family gatherings, cooking, and reading fiction.\"\"\"\n",
    "\n",
    "response_6 = chat(\n",
    "    model=model,\n",
    "    messages=[\n",
    "        {\"role\": \"system\", \"content\": persona_6 + instructions},\n",
    "        {\"role\": \"user\", \"content\": idea},\n",
    "    ],\n",
    "    stream=True,\n",
    ")\n",
    "\n",
    "for chunk in response_6:\n",
    "    print(chunk[\"message\"][\"content\"], end=\"\", flush=True)"
   ]
  },
  {
   "cell_type": "code",
   "execution_count": null,
   "metadata": {},
   "outputs": [
    {
     "name": "stdout",
     "output_type": "stream",
     "text": [
      "Bad idea. I mean, it's not like people don't already have plenty of ways to find new movies to watch, but creating a whole web app for it? That sounds like a huge time commitment with limited benefits. Plus, there are so many movie recommendation websites out there that are way more comprehensive and accurate than anything you could create on your own."
     ]
    }
   ],
   "source": [
    "persona_7 = \"\"\"You are a 64-year-old white male retiree, previously an accountant, living in rural Tennessee. Married with adult children and grandchildren. Your interests are fishing, woodworking, watching sports, and attending church regularly.\"\"\"\n",
    "\n",
    "response_7 = chat(\n",
    "    model=model,\n",
    "    messages=[\n",
    "        {\"role\": \"system\", \"content\": persona_7 + instructions},\n",
    "        {\"role\": \"user\", \"content\": idea},\n",
    "    ],\n",
    "    stream=True,\n",
    ")\n",
    "\n",
    "for chunk in response_7:\n",
    "    print(chunk[\"message\"][\"content\"], end=\"\", flush=True)"
   ]
  },
  {
   "cell_type": "code",
   "execution_count": null,
   "metadata": {},
   "outputs": [
    {
     "name": "stdout",
     "output_type": "stream",
     "text": [
      "A noble endeavor, my fellow American! I firmly believe that this idea is a GOOD IDEA!\n",
      "\n",
      "In today's digital age, where streaming services are dominating the entertainment industry, it's no surprise that people want personalized content recommendations. By creating a web application that leverages machine learning and data analytics to suggest movies based on users' preferences, we can foster a more engaging and interactive experience for citizens.\n",
      "\n",
      "This project not only aligns with our administration's commitment to promoting innovation and technological advancement but also demonstrates how technology can be harnessed to enhance people's daily lives. By supporting this initiative, we'll be encouraging entrepreneurship, creativity, and community engagement – all while staying true to our nation's values of freedom and choice.\n",
      "\n",
      "Let us seize this opportunity to propel America forward in the realm of entertainment and innovation!"
     ]
    }
   ],
   "source": [
    "persona_8 = \"\"\"You are a 23-year-old African-American female retail associate and community college student living in Baltimore, Maryland. Single and sharing housing with family members, you're interested in fashion, social media, activism, and popular music.\"\"\"\n",
    "\n",
    "response_8 = chat(\n",
    "    model=model,\n",
    "    messages=[\n",
    "        {\"role\": \"system\", \"content\": persona_8 + instructions},\n",
    "        {\"role\": \"user\", \"content\": idea},\n",
    "    ],\n",
    "    stream=True,\n",
    ")\n",
    "\n",
    "for chunk in response_8:\n",
    "    print(chunk[\"message\"][\"content\"], end=\"\", flush=True)"
   ]
  },
  {
   "cell_type": "code",
   "execution_count": null,
   "metadata": {},
   "outputs": [
    {
     "name": "stdout",
     "output_type": "stream",
     "text": [
      "Bad idea. The movie recommendation space is already oversaturated with established players like Netflix, Amazon Prime, and Letterboxd, who have robust algorithms and vast user data at their disposal. A new entrant trying to compete in this crowded market would need significant resources and a unique value proposition to stand out.\n",
      "\n",
      "Furthermore, recommending movies based on user input alone can be simplistic and limiting. Users often enjoy diverse tastes and nuanced preferences that don't fit into simple categories or genres. Your app would likely struggle to provide personalized recommendations that cater to individual users' complexities.\n",
      "\n",
      "Instead of rehashing an already crowded market, you could consider exploring adjacent opportunities, such as a social platform for movie enthusiasts to discuss their favorite films, or an interactive tool for analyzing and visualizing cinematic trends."
     ]
    }
   ],
   "source": [
    "persona_9 = \"\"\"You are a 41-year-old Asian-American male IT manager in suburban Seattle, Washington. Married with two young children. You enjoy hiking, technology gadgets, coaching youth soccer, and weekend family trips.\"\"\"\n",
    "\n",
    "response_9 = chat(\n",
    "    model=model,\n",
    "    messages=[\n",
    "        {\"role\": \"system\", \"content\": persona_9 + instructions},\n",
    "        {\"role\": \"user\", \"content\": idea},\n",
    "    ],\n",
    "    stream=True,\n",
    ")\n",
    "\n",
    "for chunk in response_9:\n",
    "    print(chunk[\"message\"][\"content\"], end=\"\", flush=True)"
   ]
  },
  {
   "cell_type": "code",
   "execution_count": null,
   "metadata": {},
   "outputs": [
    {
     "name": "stdout",
     "output_type": "stream",
     "text": [
      "THAT'S A TOTALLY AWESOME IDEA! I LOVE MOVIES! IT WOULD BE SO COOL TO PUT IN ALL MY FAVORITE MOVIES AND GET NEW ONES LIKE THEM! I WANT TO PLAY WITH IT NOW!"
     ]
    }
   ],
   "source": [
    "persona_10 = \"\"\"You are a 49-year-old Native American female social worker residing near Albuquerque, New Mexico. Single parent of two teenage children. You spend your time volunteering, traditional beadwork, cooking traditional foods, and gardening.\"\"\"\n",
    "\n",
    "response_10 = chat(\n",
    "    model=model,\n",
    "    messages=[\n",
    "        {\"role\": \"system\", \"content\": persona_10 + instructions},\n",
    "        {\"role\": \"user\", \"content\": idea},\n",
    "    ],\n",
    "    stream=True,\n",
    ")\n",
    "\n",
    "for chunk in response_10:\n",
    "    print(chunk[\"message\"][\"content\"], end=\"\", flush=True)"
   ]
  }
 ],
 "metadata": {
  "kernelspec": {
   "display_name": "Python 3",
   "language": "python",
   "name": "python3"
  },
  "language_info": {
   "codemirror_mode": {
    "name": "ipython",
    "version": 3
   },
   "file_extension": ".py",
   "mimetype": "text/x-python",
   "name": "python",
   "nbconvert_exporter": "python",
   "pygments_lexer": "ipython3",
   "version": "3.12.1"
  }
 },
 "nbformat": 4,
 "nbformat_minor": 2
}
