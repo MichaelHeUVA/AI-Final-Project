{
 "cells": [
  {
   "cell_type": "code",
   "execution_count": 6,
   "metadata": {},
   "outputs": [
    {
     "data": {
      "text/plain": [
       "ProgressResponse(status='success', completed=None, total=None, digest=None)"
      ]
     },
     "execution_count": 6,
     "metadata": {},
     "output_type": "execute_result"
    }
   ],
   "source": [
    "import ollama\n",
    "\n",
    "ollama.pull(\"llama3.2\")"
   ]
  },
  {
   "cell_type": "code",
   "execution_count": 12,
   "metadata": {},
   "outputs": [
    {
     "name": "stdout",
     "output_type": "stream",
     "text": [
      "The sky appears blue because of a phenomenon called Rayleigh scattering, named after the British physicist Lord Rayleigh. This phenomenon occurs when sunlight interacts with the tiny molecules of gases in the Earth's atmosphere, such as nitrogen and oxygen.\n",
      "\n",
      "Here's what happens:\n",
      "\n",
      "1. When sunlight enters the Earth's atmosphere, it encounters the tiny molecules of gases.\n",
      "2. The shorter (blue) wavelengths of light are scattered more than the longer (red) wavelengths by these molecules.\n",
      "3. This scattering effect is more pronounced for shorter wavelengths because they are more easily deflected by the smaller molecules.\n",
      "4. As a result, the blue light is dispersed in all directions and reaches our eyes from all parts of the sky.\n",
      "5. Our brains then interpret this scattered blue light as the color of the sky.\n",
      "\n",
      "The reason why we don't see a purple or violet sky is because there's less of these longer wavelengths to scatter. The human eye is more sensitive to blue light, so it appears that the sky is predominantly blue.\n",
      "\n",
      "It's worth noting that the color of the sky can change depending on atmospheric conditions, such as:\n",
      "\n",
      "* During sunrise and sunset, the sky can take on hues of red, orange, and pink due to the scattering of longer wavelengths by atmospheric particles.\n",
      "* On cloudy days, the sky may appear gray or white because the clouds scatter all wavelengths of light equally in all directions.\n",
      "* In areas with high levels of dust or pollution, the sky may appear more hazy or brown.\n",
      "\n",
      "However, on a clear day with no significant atmospheric disturbances, the sky typically appears blue due to Rayleigh scattering."
     ]
    }
   ],
   "source": [
    "from ollama import chat\n",
    "\n",
    "stream = chat(\n",
    "    model=\"llama3.2\",\n",
    "    messages=[{\"role\": \"user\", \"content\": \"Why is the sky blue?\"}],\n",
    "    stream=True,\n",
    ")\n",
    "\n",
    "for chunk in stream:\n",
    "    print(chunk[\"message\"][\"content\"], end=\"\", flush=True)"
   ]
  }
 ],
 "metadata": {
  "kernelspec": {
   "display_name": "Python 3",
   "language": "python",
   "name": "python3"
  },
  "language_info": {
   "codemirror_mode": {
    "name": "ipython",
    "version": 3
   },
   "file_extension": ".py",
   "mimetype": "text/x-python",
   "name": "python",
   "nbconvert_exporter": "python",
   "pygments_lexer": "ipython3",
   "version": "3.12.6"
  }
 },
 "nbformat": 4,
 "nbformat_minor": 2
}
