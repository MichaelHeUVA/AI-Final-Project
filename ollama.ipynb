{
 "cells": [
  {
   "cell_type": "code",
   "execution_count": 5,
   "metadata": {},
   "outputs": [
    {
     "name": "stdout",
     "output_type": "stream",
     "text": [
      "The sky appears blue because of a phenomenon called Rayleigh scattering, named after the British physicist Lord Rayleigh, who first described it in the late 19th century.\n",
      "\n",
      "Here's what happens:\n",
      "\n",
      "1. When sunlight enters Earth's atmosphere, it encounters tiny molecules of gases such as nitrogen (N2) and oxygen (O2).\n",
      "2. These molecules scatter the light in all directions, but they scatter shorter (blue) wavelengths more than longer (red) wavelengths.\n",
      "3. This is because the smaller molecules are more effective at scattering the shorter wavelengths due to their smaller size.\n",
      "4. As a result, the blue light is distributed throughout the atmosphere, giving the sky its blue color.\n",
      "\n",
      "The other colors of light are not scattered as much by the tiny molecules, so they continue to travel in a straight line and reach our eyes from a more direct angle. This is why the sky often appears more red or orange during sunrise and sunset, when the sunlight has to travel through more of the atmosphere.\n",
      "\n",
      "It's worth noting that the color of the sky can also be affected by other factors, such as:\n",
      "\n",
      "* Atmospheric conditions: Dust, pollution, and water vapor in the air can scatter light and change its color.\n",
      "* Time of day: As mentioned earlier, the blue color is less intense during sunrise and sunset due to the longer path of light through the atmosphere.\n",
      "* Altitude: The color of the sky can appear more vibrant at higher elevations, where there is less atmospheric scattering.\n",
      "\n",
      "So, that's the science behind why the sky appears blue!"
     ]
    }
   ],
   "source": [
    "from ollama import chat\n",
    "\n",
    "stream = chat(\n",
    "    model=\"llama3.2\",\n",
    "    messages=[{\"role\": \"user\", \"content\": \"Why is the sky blue?\"}],\n",
    "    stream=True,\n",
    ")\n",
    "\n",
    "for chunk in stream:\n",
    "    print(chunk[\"message\"][\"content\"], end=\"\", flush=True)"
   ]
  }
 ],
 "metadata": {
  "kernelspec": {
   "display_name": "Python 3",
   "language": "python",
   "name": "python3"
  },
  "language_info": {
   "codemirror_mode": {
    "name": "ipython",
    "version": 3
   },
   "file_extension": ".py",
   "mimetype": "text/x-python",
   "name": "python",
   "nbconvert_exporter": "python",
   "pygments_lexer": "ipython3",
   "version": "3.12.6"
  }
 },
 "nbformat": 4,
 "nbformat_minor": 2
}
